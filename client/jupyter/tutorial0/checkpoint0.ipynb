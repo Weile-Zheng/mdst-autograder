{
 "cells": [
  {
   "cell_type": "markdown",
   "metadata": {
    "colab_type": "text",
    "id": "0a8IYAJUshu1"
   },
   "source": [
    "# Checkpoint 0 "
   ]
  },
  {
   "cell_type": "markdown",
   "metadata": {},
   "source": [
    "These exercises are a mix of Python and Pandas practice. Most should be no more than a few lines of code! "
   ]
  },
  {
   "cell_type": "code",
   "execution_count": 2,
   "metadata": {
    "colab": {},
    "colab_type": "code",
    "id": "Jo6wuTgkshu1"
   },
   "outputs": [],
   "source": [
    "# here is a Python list:\n",
    "\n",
    "a = [1, 2, 3, 4, 5, 6]"
   ]
  },
  {
   "cell_type": "code",
   "execution_count": null,
   "id": "779d96b1",
   "metadata": {},
   "outputs": [],
   "source": [
    "# Question 1: Make a list containing last 3 elements of a. DO NOT hardcode. \n",
    "newList = a[3:] "
   ]
  },
  {
   "cell_type": "code",
   "execution_count": null,
   "id": "b6a54def",
   "metadata": {},
   "outputs": [
    {
     "data": {
      "text/plain": [
       "[1, 2, 3, 4, 5, 6, 7, 8, 9, 10, 11, 12, 13, 14, 15, 16, 17, 18, 19, 20]"
      ]
     },
     "execution_count": 21,
     "metadata": {},
     "output_type": "execute_result"
    }
   ],
   "source": [
    "# Question 2: Create a list of numbers from 1 to 100\n",
    "list = [i for i in range(1,21)]\n",
    "list"
   ]
  },
  {
   "cell_type": "code",
   "execution_count": null,
   "id": "6698e000",
   "metadata": {},
   "outputs": [],
   "source": [
    "# Question 3: Make a list containing last 3 elements of a. DO NOT hardcode. \n",
    "# THIS CELL HAVE NO CODE SHOULD NOT BE GRADED"
   ]
  },
  {
   "cell_type": "code",
   "execution_count": null,
   "id": "786cb704",
   "metadata": {},
   "outputs": [],
   "source": [
    "# Questio 5\n",
    "# THIS CELL HAVE WRONG STARTER TAGE SHOULD NOT BE GRADED\n",
    "print(\"hi\")"
   ]
  },
  {
   "cell_type": "code",
   "execution_count": null,
   "id": "21a7ecbd",
   "metadata": {},
   "outputs": [],
   "source": [
    "# Question 4: How to\n",
    "print(\"hello world\")"
   ]
  }
 ],
 "metadata": {
  "kernelspec": {
   "display_name": "Python 3.9.0 64-bit",
   "language": "python",
   "name": "python3"
  },
  "language_info": {
   "codemirror_mode": {
    "name": "ipython",
    "version": 3
   },
   "file_extension": ".py",
   "mimetype": "text/x-python",
   "name": "python",
   "nbconvert_exporter": "python",
   "pygments_lexer": "ipython3",
   "version": "3.10.1"
  },
  "vscode": {
   "interpreter": {
    "hash": "6cf8df3ff69f85f626faf55c10df6fe2cb9d1236b4dc73844ee4dc01369c2c99"
   }
  }
 },
 "nbformat": 4,
 "nbformat_minor": 5
}
